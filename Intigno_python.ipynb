{
  "nbformat": 4,
  "nbformat_minor": 0,
  "metadata": {
    "colab": {
      "provenance": []
    },
    "kernelspec": {
      "name": "python3",
      "display_name": "Python 3"
    },
    "language_info": {
      "name": "python"
    }
  },
  "cells": [
    {
      "cell_type": "code",
      "source": [
        "#importing necessary packages \n",
        "import unittest\n",
        "from collections.abc import AsyncGenerator\n",
        "import json"
      ],
      "metadata": {
        "id": "kI9kuXhoHKd6"
      },
      "execution_count": 97,
      "outputs": []
    },
    {
      "cell_type": "code",
      "execution_count": 98,
      "metadata": {
        "id": "pE8lXfnhZaHP"
      },
      "outputs": [],
      "source": [
        "#importing the file example.json \n",
        "with open ('/content/example.json', 'r+' ) as j: \n",
        "  data = json.load(j)\n"
      ]
    },
    {
      "cell_type": "markdown",
      "source": [
        "Q1 Read the JSON file and print the output "
      ],
      "metadata": {
        "id": "lWwDeTTjHx1W"
      }
    },
    {
      "cell_type": "code",
      "source": [
        "\n",
        "def print1(data):\n",
        "  for i in data:\n",
        "    print(\"\\n\")\n",
        "    print(\"Name : \",i)\n",
        "    print(\"Phone Number : \",data[i]['number'])\n",
        "    print(\"Age : \",data[i]['age'])\n",
        "    for k in data[i]['address']:\n",
        "      print(k)\n",
        "\n",
        "list1 = []\n",
        "def dict1(data):\n",
        "  \n",
        "  tdict1 = {}\n",
        "  for i in data:\n",
        "    tdict1 = {}\n",
        "    tdict1['Name'] = i\n",
        "    tdict1['Phone Number'] = data[i]['number']\n",
        "    tdict1['Age']= data[i]['age']\n",
        "    for k in data[i]['address']:\n",
        "      tdict1[\"address\"] = data[i]['address']\n",
        "    list1.append(tdict1)\n",
        "  return(list1)\n",
        "\n",
        "\n",
        "\n",
        "print(type(data))\n",
        "dict1(data) #  function to put the output to a dictionary so that expected output and actual output can be compared for unit test \n",
        "print1(data) # function to show output\n",
        "\n",
        "#code for unit test\n",
        "class TestNotebook(unittest.TestCase):\n",
        "    \n",
        "    def testq1(self):\n",
        "        self.assertEqual(dict1(data), list1)\n",
        "        \n",
        "\n",
        "unittest.main(argv=[''], verbosity=2, exit=False)\n",
        "\n",
        "\n",
        "    \n",
        "\n",
        "\n"
      ],
      "metadata": {
        "colab": {
          "base_uri": "https://localhost:8080/"
        },
        "id": "bQWehlc0CAiD",
        "outputId": "fd3e8b17-6dbe-4f33-fc22-563df24c1a14"
      },
      "execution_count": 99,
      "outputs": [
        {
          "output_type": "stream",
          "name": "stderr",
          "text": [
            "testq1 (__main__.TestNotebook) ... "
          ]
        },
        {
          "output_type": "stream",
          "name": "stdout",
          "text": [
            "<class 'dict'>\n",
            "\n",
            "\n",
            "Name :  John\n",
            "Phone Number :  +61 2 3617 9451\n",
            "Age :  19\n",
            "10/365 Pacific Highway, Hornsby\n",
            "Sydney, New South Wales\n",
            "Australia – 2077.\n",
            "\n",
            "\n",
            "Name :  Ravi\n",
            "Phone Number :  +91 9972354015\n",
            "Age :  21\n",
            "110 New Vora House, Koramangala\n",
            "Bengaluru, Karnataka\n",
            "India – 560078.\n"
          ]
        },
        {
          "output_type": "stream",
          "name": "stderr",
          "text": [
            "ok\n",
            "\n",
            "----------------------------------------------------------------------\n",
            "Ran 1 test in 0.004s\n",
            "\n",
            "OK\n"
          ]
        },
        {
          "output_type": "execute_result",
          "data": {
            "text/plain": [
              "<unittest.main.TestProgram at 0x7f2a25460880>"
            ]
          },
          "metadata": {},
          "execution_count": 99
        }
      ]
    },
    {
      "cell_type": "markdown",
      "source": [
        "**Q2: Store Length of Students Address**"
      ],
      "metadata": {
        "id": "idw2-txkIlTP"
      }
    },
    {
      "cell_type": "code",
      "source": [
        "lenaddress = []\n",
        "\n",
        "# function  to print in the desired way also creating a list of actual output\n",
        "def addrlen(data):\n",
        "  lenaddress = []\n",
        "  k =0\n",
        "  for i in data:\n",
        "    lenaddress.append(i)\n",
        "    lenaddress.append(len(data[i]['address']))\n",
        "    print(\"\\n\",lenaddress[k],end =\" \")\n",
        "    k=k+1\n",
        "    print(lenaddress[k])     \n",
        "    k = k+1\n",
        "  return lenaddress\n",
        "\n",
        "\n",
        "\n",
        "\n",
        "\n",
        "# Defining list reflen   having expected output i e student name and length of address lines \n",
        "reflen = ['John', 3, 'Ravi', 3]\n",
        "\n",
        "#unit testing verifying  actual output with expected output\n",
        "class TestNotebook(unittest.TestCase):\n",
        "    \n",
        "    def testq2(self):\n",
        "        self.assertEqual(addrlen(data), reflen)\n",
        "        \n",
        "\n",
        "unittest.main(argv=[''], verbosity=2, exit=False)\n",
        "\n",
        "\n"
      ],
      "metadata": {
        "colab": {
          "base_uri": "https://localhost:8080/"
        },
        "id": "bLwDcnjHIgcb",
        "outputId": "d0365ea1-ccc0-4b0f-d761-1c13145d4e84"
      },
      "execution_count": 100,
      "outputs": [
        {
          "output_type": "stream",
          "name": "stderr",
          "text": [
            "testq2 (__main__.TestNotebook) ... "
          ]
        },
        {
          "output_type": "stream",
          "name": "stdout",
          "text": [
            "\n",
            " John 3\n",
            "\n",
            " Ravi 3\n"
          ]
        },
        {
          "output_type": "stream",
          "name": "stderr",
          "text": [
            "ok\n",
            "\n",
            "----------------------------------------------------------------------\n",
            "Ran 1 test in 0.006s\n",
            "\n",
            "OK\n"
          ]
        },
        {
          "output_type": "execute_result",
          "data": {
            "text/plain": [
              "<unittest.main.TestProgram at 0x7f2a254d46d0>"
            ]
          },
          "metadata": {},
          "execution_count": 100
        }
      ]
    },
    {
      "cell_type": "markdown",
      "source": [
        "**Q3: Store the mapping of students with phone numbers bold text**"
      ],
      "metadata": {
        "id": "8BAo_29aOC_g"
      }
    },
    {
      "cell_type": "code",
      "source": [
        "# function  to print in the desired way also creating a list of actual output\n",
        "def mapping(data):\n",
        "  namelist = []\n",
        "  numlist = []\n",
        "  for i in data:\n",
        "    namelist.append(i)\n",
        "    numlist.append(data[i]['number'])\n",
        "  phmap = dict(zip(namelist, numlist))\n",
        "  print(\"Mapping Student name with his phone number\\n\\n\")\n",
        "  print(phmap) \n",
        "  return phmap\n",
        "  \n",
        "\n",
        "#mapping(data)\n",
        "refmap = {'John': '+61 2 3617 9451', 'Ravi': '+91 9972354015'}\n",
        "\n",
        "\n",
        "#unit testing verifying  actual output with expected output\n",
        "class TestNotebook(unittest.TestCase):\n",
        "    \n",
        "    def testq3(self):\n",
        "        self.assertEqual(mapping(data), refmap)\n",
        "        \n",
        "\n",
        "unittest.main(argv=[''], verbosity=2, exit=False)\n",
        "\n"
      ],
      "metadata": {
        "colab": {
          "base_uri": "https://localhost:8080/"
        },
        "id": "SClXTuoKOA58",
        "outputId": "6461ead7-97c1-45ec-b05f-c010d38c75dd"
      },
      "execution_count": 101,
      "outputs": [
        {
          "output_type": "stream",
          "name": "stderr",
          "text": [
            "testq3 (__main__.TestNotebook) ... "
          ]
        },
        {
          "output_type": "stream",
          "name": "stdout",
          "text": [
            "Mapping Student name with his phone number\n",
            "\n",
            "\n",
            "{'John': '+61 2 3617 9451', 'Ravi': '+91 9972354015'}\n"
          ]
        },
        {
          "output_type": "stream",
          "name": "stderr",
          "text": [
            "ok\n",
            "\n",
            "----------------------------------------------------------------------\n",
            "Ran 1 test in 0.004s\n",
            "\n",
            "OK\n"
          ]
        },
        {
          "output_type": "execute_result",
          "data": {
            "text/plain": [
              "<unittest.main.TestProgram at 0x7f2a25443640>"
            ]
          },
          "metadata": {},
          "execution_count": 101
        }
      ]
    },
    {
      "cell_type": "markdown",
      "source": [
        "**Q4 : Modify the example.json file to store the student addresses in a single string instead of a list of address lines**"
      ],
      "metadata": {
        "id": "QzXbkKR1SBHo"
      }
    },
    {
      "cell_type": "code",
      "source": [
        "#importing necessary packages \n",
        "import unittest\n",
        "from collections.abc import AsyncGenerator\n",
        "import json\n",
        "\n",
        "#importing the file example.json \n",
        "with open ('/content/example.json', 'r+' ) as j: \n",
        "  data = json.load(j)\n",
        "\n",
        "addrkey = data.keys()\n",
        "for key in addrkey: \n",
        "  addr = ''\n",
        "  for address in data[key]['address']:\n",
        "    addr = addr+' '+address\n",
        "    data[key]['address'] = addr\n",
        "\n",
        "\n",
        "with open(\"/content/example1.json\", \"w\") as jsonFile:\n",
        "    json.dump(data, jsonFile)\n",
        "\n",
        "\n",
        "with open ('/content/example1.json', 'r+' ) as k: \n",
        "  datanew = json.load(k)\n",
        "\n",
        " \n",
        "for k in datanew:\n",
        "    print(\"\\n\")\n",
        "    print(\"Name : \",k)\n",
        "    print(\"Phone Number : \",data[k]['number'])\n",
        "    print(\"Age : \",data[k]['age'])\n",
        "    print(\"Age : \",data[k]['address'])\n",
        "    \n",
        "\n",
        "\n",
        "\n",
        "\n"
      ],
      "metadata": {
        "colab": {
          "base_uri": "https://localhost:8080/"
        },
        "id": "brdHX1vPSC94",
        "outputId": "f3065b93-c515-4b02-d25f-bf3515271867"
      },
      "execution_count": 103,
      "outputs": [
        {
          "output_type": "stream",
          "name": "stdout",
          "text": [
            "\n",
            "\n",
            "Name :  John\n",
            "Phone Number :  +61 2 3617 9451\n",
            "Age :  19\n",
            "Age :   10/365 Pacific Highway, Hornsby Sydney, New South Wales Australia – 2077.\n",
            "\n",
            "\n",
            "Name :  Ravi\n",
            "Phone Number :  +91 9972354015\n",
            "Age :  21\n",
            "Age :   110 New Vora House, Koramangala Bengaluru, Karnataka India – 560078.\n"
          ]
        }
      ]
    }
  ]
}