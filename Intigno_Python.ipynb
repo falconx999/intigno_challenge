{
  "nbformat": 4,
  "nbformat_minor": 0,
  "metadata": {
    "colab": {
      "provenance": []
    },
    "kernelspec": {
      "name": "python3",
      "display_name": "Python 3"
    },
    "language_info": {
      "name": "python"
    }
  },
  "cells": [
    {
      "cell_type": "code",
      "source": [],
      "metadata": {
        "id": "IiVwZ3m1JxA0"
      },
      "execution_count": null,
      "outputs": []
    },
    {
      "cell_type": "code",
      "source": [
        "from collections.abc import AsyncGenerator\n",
        "import json\n",
        "with open ('/content/example.json', 'r+' ) as j: \n",
        "  data = json.load(j)\n",
        "  # Q1 : Dispaly the data \n",
        "  print(\"QUESTION 1\")\n",
        "  print(type(data))\n",
        "for i in data:\n",
        "  print(\"\\n\")\n",
        "  print(\"name : \",i)\n",
        "  print(\"\\n Phone Number : \",data[i]['number'])\n",
        "  print(\"\\nAge : \",data[i]['age'])\n",
        "  for k in data[i]['address']:\n",
        "    print(\"\\n\",k)\n",
        "\n",
        "#Q2: Store Length of Students Address\n",
        "print(\"QUESTION 2\")\n",
        "\n",
        "lenaddress = []\n",
        "print(\"No of Lines needed to Store addresses of students\")\n",
        "for i in data:\n",
        "  lenaddress.append(i)\n",
        "  lenaddress.append(len(data[i]['address']))\n",
        "print(lenaddress)\n",
        "#Q3: Store the mapping of students with phone numbers \n",
        "print(\"QUESTION 3\")\n",
        "\n",
        "namelist = []\n",
        "numlist = []\n",
        "for i in data:\n",
        "  namelist.append(i)\n",
        "  numlist.append(data[i]['number'])\n",
        "phmap = dict(zip(namelist, numlist))\n",
        "print(phmap)\n",
        "print(\"QUESTION 4\")\n",
        "\n",
        "# Q4 : Modify the example.json file to store the student addresses in a single string instead of a list of address lines\n",
        "addrkey = data.keys()\n",
        "for key in addrkey: \n",
        "  addr = ''\n",
        "  for address in data[key]['address']:\n",
        "    addr = addr+' '+address\n",
        "    data[key]['address'] = addr\n",
        "with open(\"/content/example.json\", \"w\") as jsonFile:\n",
        "    json.dump(data, jsonFile)\n",
        "\n",
        "\n",
        "\n",
        "\n",
        "\n",
        "\n",
        "\n"
      ],
      "metadata": {
        "colab": {
          "base_uri": "https://localhost:8080/"
        },
        "id": "SeDLgo1cIWKM",
        "outputId": "1c397ac6-c462-4a4b-dbe9-04a689e81a98"
      },
      "execution_count": 16,
      "outputs": [
        {
          "output_type": "stream",
          "name": "stdout",
          "text": [
            "QUESTION 1\n",
            "<class 'dict'>\n",
            "\n",
            "\n",
            "name :  John\n",
            "\n",
            " Phone Number :  +61 2 3617 9451\n",
            "\n",
            "Age :  19\n",
            "\n",
            " 10/365 Pacific Highway, Hornsby\n",
            "\n",
            " Sydney, New South Wales\n",
            "\n",
            " Australia – 2077.\n",
            "\n",
            "\n",
            "name :  Ravi\n",
            "\n",
            " Phone Number :  +91 9972354015\n",
            "\n",
            "Age :  21\n",
            "\n",
            " 110 New Vora House, Koramangala\n",
            "\n",
            " Bengaluru, Karnataka\n",
            "\n",
            " India – 560078.\n",
            "QUESTION 2\n",
            "No of Lines needed to Store addresses of students\n",
            "['John', 3, 'Ravi', 3]\n",
            "QUESTION 3\n",
            "{'John': '+61 2 3617 9451', 'Ravi': '+91 9972354015'}\n",
            "QUESTION 4\n"
          ]
        }
      ]
    }
  ]
}